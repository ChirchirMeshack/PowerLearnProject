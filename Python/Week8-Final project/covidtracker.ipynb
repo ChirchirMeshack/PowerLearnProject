{
 "cells": [
  {
   "cell_type": "markdown",
   "id": "08fa63eb",
   "metadata": {},
   "source": [
    "# COVID-19 Global Data Tracker\n",
    "\n",
    "In this project, we will build a data analysis and reporting notebook that tracks global COVID-19 trends. The project will analyze cases, deaths, recoveries, and vaccinations across countries and time. We will clean and process real-world data, perform exploratory data analysis (EDA), generate insights, and visualize trends using Python data tools.\n",
    "\n",
    "By the end, we’ll have a data analysis report with visuals and narrative insights, suitable for presentation or publishing."
   ]
  },
  {
   "cell_type": "markdown",
   "id": "81c21db2",
   "metadata": {},
   "source": [
    "## Project Objectives:\n",
    "\n",
    "- ✅ Import and clean COVID-19 global data\n",
    "- ✅ Analyze time trends (cases, deaths, vaccinations)\n",
    "- ✅ Compare metrics across countries/regions\n",
    "- ✅ Visualize trends with charts and maps\n",
    "- ✅ Communicate findings in a Jupyter Notebook or PDF report"
   ]
  },
  {
   "cell_type": "markdown",
   "id": "8e22ef32",
   "metadata": {},
   "source": [
    "## 1️⃣ Data Collection\n",
    "\n",
    "**Goal:** Obtain a reliable COVID-19 dataset.\n",
    "\n",
    "**✅ Data Sources:**\n",
    "\n",
    "- Our World in Data COVID-19 Dataset (CSV & API)\n",
    "- Johns Hopkins University GitHub Repository\n",
    "\n",
    "👉 Recommended for beginners: Use the cleaned CSV from Our World in Data (easy to load with pandas).\n",
    "\n",
    "**✅ Action:**\n",
    "\n",
    "- Download `owid-covid-data.csv` from the [Our World in Data](https://ourworldindata.org/covid-deaths) website.\n",
    "- Save in your working folder."
   ]
  },
  {
   "cell_type": "code",
   "execution_count": null,
   "id": "59b8cced",
   "metadata": {},
   "outputs": [],
   "source": [
    "# Import pandas\n",
    "import pandas as pd"
   ]
  },
  {
   "cell_type": "markdown",
   "id": "f18f857f",
   "metadata": {},
   "source": [
    "## 2️⃣ Data Loading & Exploration\n",
    "\n",
    "**Goal:** Load the dataset and explore its structure.\n",
    "\n",
    "**✅ Tasks:**\n",
    "\n",
    "- Load data using `pandas.read_csv()`.\n",
    "- Check columns: `df.columns`.\n",
    "- Preview rows: `df.head()`.\n",
    "- Identify missing values: `df.isnull().sum()`.\n",
    "\n",
    "**✅ Tools:**\n",
    "\n",
    "- pandas\n",
    "\n",
    "**📌 Key columns:**\n",
    "\n",
    "`date`, `location`, `total_cases`, `total_deaths`, `new_cases`, `new_deaths`, `total_vaccinations`, etc."
   ]
  },
  {
   "cell_type": "code",
   "execution_count": null,
   "id": "ef26da2c",
   "metadata": {},
   "outputs": [],
   "source": [
    "# Load the data\n",
    "df = pd.read_csv('owid-covid-data.csv')\n",
    "\n",
    "# Check columns\n",
    "print(\"Columns:\", df.columns)\n",
    "\n",
    "# Preview rows\n",
    "print(\"\\nFirst 5 rows:\", df.head())\n",
    "\n",
    "# Identify missing values\n",
    "print(\"\\nMissing values:\", df.isnull().sum())"
   ]
  },
  {
   "cell_type": "markdown",
   "id": "56b787e3",
   "metadata": {},
   "source": [
    "## 3️⃣ Data Cleaning\n",
    "\n",
    "**Goal:** Prepare data for analysis.\n",
    "\n",
    "**✅ Tasks:**\n",
    "\n",
    "- Filter countries of interest (e.g., Kenya, USA, India).\n",
    "- Drop rows with missing dates/critical values.\n",
    "- Convert date column to datetime: `pd.to_datetime()`.\n",
    "- Handle missing numeric values with `fillna()` or `interpolate()`.\n",
    "\n",
    "**✅ Tools:**\n",
    "\n",
    "- pandas"
   ]
  },
  {
   "cell_type": "code",
   "execution_count": null,
   "id": "f91f3bf1",
   "metadata": {},
   "outputs": [],
   "source": [
    "# Filter for countries of interest\n",
    "countries = ['Kenya', 'USA', 'India']\n",
    "df_filtered = df[df['location'].isin(countries)].copy()\n",
    "\n",
    "# Convert date column to datetime\n",
    "df_filtered['date'] = pd.to_datetime(df_filtered['date'])\n",
    "\n",
    "# Drop rows with missing dates\n",
    "df_filtered.dropna(subset=['date'], inplace=True)\n",
    "\n",
    "# Handle missing numeric values (using fillna with 0 for simplicity)\n",
    "df_filtered.fillna(0, inplace=True)\n",
    "\n",
    "# Display the cleaned data\n",
    "print(df_filtered.head())"
   ]
  },
  {
   "cell_type": "markdown",
   "id": "0f1cf81b",
   "metadata": {},
   "source": [
    "## 4️⃣ Exploratory Data Analysis (EDA)\n",
    "\n",
    "**Goal:** Generate descriptive statistics & explore trends.\n",
    "\n",
    "**✅ Tasks:**\n",
    "\n",
    "- Plot total cases over time for selected countries.\n",
    "- Plot total deaths over time.\n",
    "- Compare daily new cases between countries.\n",
    "- Calculate the death rate: `total_deaths` / `total_cases`.\n",
    "\n",
    "**✅ Visualizations:**\n",
    "\n",
    "- Line charts (cases & deaths over time).\n",
    "- Bar charts (top countries by total cases).\n",
    "- Heatmaps (optional for correlation analysis).\n",
    "\n",
    "**✅ Tools:**\n",
    "\n",
    "- matplotlib\n",
    "- seaborn"
   ]
  },
  {
   "cell_type": "code",
   "execution_count": null,
   "id": "f1946947",
   "metadata": {},
   "outputs": [],
   "source": [
    "# Import visualization libraries\n",
    "import matplotlib.pyplot as plt\n",
    "import seaborn as sns\n",
    "\n",
    "# Set style for plots\n",
    "sns.set(style='whitegrid')\n",
    "\n",
    "# Plot total cases over time for selected countries\n",
    "plt.figure(figsize=(12, 6))\n",
    "sns.lineplot(x='date', y='total_cases', hue='location', data=df_filtered)\n",
    "plt.title('Total COVID-19 Cases Over Time')\n",
    "plt.xlabel('Date')\n",
    "plt.ylabel('Total Cases')\n",
    "plt.show()\n",
    "\n",
    "# Plot total deaths over time\n",
    "plt.figure(figsize=(12, 6))\n",
    "sns.lineplot(x='date', y='total_deaths', hue='location', data=df_filtered)\n",
    "plt.title('Total COVID-19 Deaths Over Time')\n",
    "plt.xlabel('Date')\n",
    "plt.ylabel('Total Deaths')\n",
    "plt.show()\n",
    "\n",
    "# Compare daily new cases between countries\n",
    "plt.figure(figsize=(12, 6))\n",
    "sns.barplot(x='location', y='new_cases', data=df_filtered, ci=None)\n",
    "plt.title('Daily New COVID-19 Cases')\n",
    "plt.xlabel('Country')\n",
    "plt.ylabel('New Cases')\n",
    "plt.show()"
   ]
  },
  {
   "cell_type": "markdown",
   "id": "171c7872",
   "metadata": {},
   "source": [
    "## 5️⃣ Visualizing Vaccination Progress\n",
    "\n",
    "**Goal:** Analyze vaccination rollouts.\n",
    "\n",
    "**✅ Tasks:**\n",
    "\n",
    "- Plot cumulative vaccinations over time for selected countries.\n",
    "- Compare % vaccinated population.\n",
    "\n",
    "**✅ Charts:**\n",
    "\n",
    "- Line charts.\n",
    "- Optional: Pie charts for vaccinated vs. unvaccinated.\n",
    "\n",
    "**✅ Tools:**\n",
    "\n",
    "- matplotlib\n",
    "- seaborn"
   ]
  },
  {
   "cell_type": "code",
   "execution_count": null,
   "id": "8fe0826d",
   "metadata": {},
   "outputs": [],
   "source": [
    "# Plot cumulative vaccinations over time for selected countries\n",
    "plt.figure(figsize=(12, 6))\n",
    "sns.lineplot(x='date', y='total_vaccinations', hue='location', data=df_filtered)\n",
    "plt.title('Total COVID-19 Vaccinations Over Time')\n",
    "plt.xlabel('Date')\n",
    "plt.ylabel('Total Vaccinations')\n",
    "plt.show()"
   ]
  },
  {
   "cell_type": "markdown",
   "id": "59ff54c7",
   "metadata": {},
   "source": [
    "## 6️⃣ Optional: Build a Choropleth Map\n",
    "\n",
    "**Goal:** Visualize cases or vaccination rates by country on a world map.\n",
    "\n",
    "**✅ Tools:**\n",
    "\n",
    "- Plotly Express\n",
    "- Or geopandas (advanced)\n",
    "\n",
    "**✅ Tasks:**\n",
    "\n",
    "- Prepare a dataframe with `iso_code`, `total_cases` for the latest date.\n",
    "- Plot a choropleth showing case density or vaccination rates."
   ]
  },
  {
   "cell_type": "code",
   "execution_count": null,
   "id": "f7a82526",
   "metadata": {},
   "outputs": [],
   "source": [
    "# This section is optional and requires additional libraries like Plotly.\n",
    "# Here's a placeholder for the code that would generate a choropleth map.\n",
    "# You would need to install plotly: pip install plotly\n",
    "\n",
    "# import plotly.express as px\n",
    "#\n",
    "# # Get the most recent data for each country\n",
    "# df_latest = df.groupby('iso_code')['total_cases'].last().reset_index()\n",
    "#\n",
    "# # Create the choropleth map\n",
    "# fig = px.choropleth(\n",
    "#     df_latest,\n",
    "#     locations=\"iso_code\",\n",
    "#     color=\"total_cases\",\n",
    "#     hover_name=\"iso_code\",\n",
    "#     title=\"COVID-19 Total Cases by Country\"\n",
    "# )\n",
    "# fig.show()"
   ]
  },
  {
   "cell_type": "markdown",
   "id": "046a43cf",
   "metadata": {},
   "source": [
    "## 7️⃣ Insights & Reporting\n",
    "\n",
    "**Goal:** Summarize findings.\n",
    "\n",
    "**✅ Tasks:**\n",
    "\n",
    "- Write 3-5 key insights from the data (e.g., \"X country had the fastest vaccine rollout\").\n",
    "- Highlight anomalies or interesting patterns.\n",
    "- Use markdown cells in Jupyter Notebook to write your narrative.\n",
    "\n",
    "**✅ Deliverables:**\n",
    "\n",
    "- A well-documented Jupyter Notebook combining:\n",
    "  - Code\n",
    "  - Visualizations\n",
    "  - Narrative explanations\n",
    "- Optional export: Notebook → PDF or a PowerPoint with screenshots."
   ]
  },
  {
   "cell_type": "markdown",
   "id": "3708e0c8",
   "metadata": {},
   "source": [
    "**Key Insights:**\n",
    "\n",
    "1.  **USA** had the highest number of total COVID-19 cases compared to Kenya and India.\n",
    "2.  The **vaccination rollout** showed a steady increase over time for all three countries.\n",
    "3.  **Kenya** had significantly lower total cases and deaths compared to the USA and India, which may reflect different testing rates, population densities, or public health strategies."
   ]
  }
 ],
 "metadata": {
  "language_info": {
   "name": "python"
  }
 },
 "nbformat": 4,
 "nbformat_minor": 5
}
